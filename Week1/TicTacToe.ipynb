{
 "cells": [
  {
   "cell_type": "markdown",
   "metadata": {},
   "source": [
    "## Tic-Tac-Toe Simulation\n",
    "In this assignment you have to construct a python class \"TicTacToe\" which simulates the game of Tic-Tac-Toe, this will further be used as an enviroment to solve for you in next week.\n",
    "\n",
    "You may add arguments to given functions as per your need and also additional helper functions (whose name should start with \"_\", convention for private functions), but only the initially given functions can be called by any user. No additional imports are allowed. The game always starts with X's turn."
   ]
  },
  {
   "cell_type": "code",
   "execution_count": 4,
   "metadata": {},
   "outputs": [],
   "source": [
    "import numpy as np"
   ]
  },
  {
   "cell_type": "code",
   "execution_count": 5,
   "metadata": {},
   "outputs": [],
   "source": [
    "class TicTacToe:\n",
    "    def __init__(self, n : int = 3):\n",
    "        self.n = n\n",
    "        self.grid = np.full((n, n), '', dtype='<U1')\n",
    "        self.currMove = 'X'\n",
    "        self.won = 0 # variable to check if someone has one\n",
    "\n",
    "    def act(self):\n",
    "        while (self.won == 0):\n",
    "            print(self.grid)\n",
    "            self.move = eval(input(f'Move of the player {self.currMove}: '))\n",
    "            if (self.grid[self.move[0]][self.move[1]] != ''):\n",
    "                print(\"Wrong Move, try again!\")\n",
    "                continue\n",
    "            self.grid[self.move[0]][self.move[1]] = self.currMove\n",
    "            if self._checkWin() == True:\n",
    "                self.won = 1\n",
    "            else:\n",
    "                self._changeMove()\n",
    "        print(f'{self.currMove} wins!')\n",
    "        self.reset()\n",
    "\n",
    "    def reset(self):\n",
    "        self.grid = np.empty((self.n,self.n))\n",
    "        self.currMove = 'X'\n",
    "        won = 0\n",
    "\n",
    "    def _checkWin(self):\n",
    "        x = self.move[0]\n",
    "        y = self.move[1]\n",
    "        found = 1\n",
    "        for i in range(self.n):\n",
    "            if self.grid[x][i] != self.currMove:\n",
    "                found = 0\n",
    "                break\n",
    "        if found == 1:\n",
    "            return True\n",
    "        for i in range(self.n):\n",
    "            if self.grid[i][y] != self.currMove:\n",
    "                return False\n",
    "        return True\n",
    "                \n",
    "\n",
    "\n",
    "    def _changeMove(self):\n",
    "        if self.currMove == 'X':\n",
    "            self.currMove = 'O'\n",
    "        else:\n",
    "            self.currMove = 'X'\n"
   ]
  },
  {
   "cell_type": "code",
   "execution_count": 6,
   "metadata": {},
   "outputs": [
    {
     "name": "stdout",
     "output_type": "stream",
     "text": [
      "[['' '' '']\n",
      " ['' '' '']\n",
      " ['' '' '']]\n",
      "[['X' '' '']\n",
      " ['' '' '']\n",
      " ['' '' '']]\n",
      "Wrong Move, try again!\n",
      "[['X' '' '']\n",
      " ['' '' '']\n",
      " ['' '' '']]\n",
      "[['X' 'O' '']\n",
      " ['' '' '']\n",
      " ['' '' '']]\n",
      "[['X' 'O' '']\n",
      " ['' 'X' '']\n",
      " ['' '' '']]\n",
      "[['X' 'O' '']\n",
      " ['' 'X' '']\n",
      " ['' '' 'O']]\n",
      "[['X' 'O' '']\n",
      " ['X' 'X' '']\n",
      " ['' '' 'O']]\n",
      "Wrong Move, try again!\n",
      "[['X' 'O' '']\n",
      " ['X' 'X' '']\n",
      " ['' '' 'O']]\n",
      "[['X' 'O' 'O']\n",
      " ['X' 'X' '']\n",
      " ['' '' 'O']]\n",
      "X wins!\n"
     ]
    }
   ],
   "source": [
    "game = TicTacToe(n = 3)\n",
    "game.act()"
   ]
  }
 ],
 "metadata": {
  "kernelspec": {
   "display_name": "pytorch",
   "language": "python",
   "name": "python3"
  },
  "language_info": {
   "codemirror_mode": {
    "name": "ipython",
    "version": 3
   },
   "file_extension": ".py",
   "mimetype": "text/x-python",
   "name": "python",
   "nbconvert_exporter": "python",
   "pygments_lexer": "ipython3",
   "version": "3.11.5"
  }
 },
 "nbformat": 4,
 "nbformat_minor": 2
}
